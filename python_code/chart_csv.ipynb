import pandas as pd
import csv
import matplotlib.pyplot as plt
headers = ['altitude', 'accelX', 'accelY', 'accelZ', 'gyroX', 'gyroY', 'gyroZ']
df = pd.read_csv("../csv/output.csv", names=headers)
print(df)

for i in headers:
    plt.plot(df['time'], df[i], label=i)

plt.legend(loc="upper left")
plt.show()
